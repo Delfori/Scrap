{
 "cells": [
  {
   "cell_type": "code",
   "execution_count": 1,
   "metadata": {},
   "outputs": [],
   "source": [
    "import pandas as pd"
   ]
  },
  {
   "cell_type": "code",
   "execution_count": 4,
   "metadata": {},
   "outputs": [],
   "source": [
    "with open('09082022_solar_sp.csv', 'r', encoding='utf-8') as f:\n",
    "    data = f.readlines()"
   ]
  },
  {
   "cell_type": "code",
   "execution_count": 13,
   "metadata": {},
   "outputs": [],
   "source": [
    "data[13:18]\n",
    "data2 = data[13:18]"
   ]
  },
  {
   "cell_type": "code",
   "execution_count": 17,
   "metadata": {},
   "outputs": [],
   "source": [
    "new_line = ''\n",
    "for line in data2:\n",
    "    new_line += line"
   ]
  },
  {
   "cell_type": "code",
   "execution_count": 18,
   "metadata": {},
   "outputs": [
    {
     "data": {
      "text/plain": [
       "'60 грн|6|\"<a href=\"\"/cosmetics/dlya-volos/sredstva-dlya-zashchity/77903484-uvlyazhnyayushiy-povsednevnyy-krem-dlya-kontrolya-lokonov\"\" class=\"\"b-tile-item-name-product js-b-tile-item\"\" data-event-action=\"\"Open from seller shop\"\" data-event-label=\"\"\"\" data-is-made-in-ukraine=\"\"0\"\" data-user-has-recent-activity=\"\"1\"\" data-sale-status=\"\"nonsale\"\" data-item-count=\"\"13\"\" data-id=\"\"77903484\"\" data-clerk-source=\"\"\"\" title=\"\"Увляжняющий повседневный крем для контроля локонов кучерявых волос\\nkerastase curl manifesto creme de jour fondamentale\"\" winautomationvisibilitylandmark=\"\"true\"\">\\nУвляжняющий повседневный крем для контроля локонов кучерявых волос\\nkerastase curl manifesto creme de jour fondamentale\"|Увляжняющий повседневный крем для контроля локонов кучерявых волос\\nkerastase curl manifesto creme de jour fondamentale|||Kerastase|https://shafa.ua/cosmetics/dlya-volos/sredstva-dlya-zashchity/77903484-uvlyazhnyayushiy-povsednevnyy-krem-dlya-kontrolya-lokonov\\n'"
      ]
     },
     "execution_count": 18,
     "metadata": {},
     "output_type": "execute_result"
    }
   ],
   "source": [
    "new_line"
   ]
  },
  {
   "cell_type": "code",
   "execution_count": 15,
   "metadata": {},
   "outputs": [],
   "source": [
    "a = 'sdfsdfds'\n",
    "b = '32423jkhgxg'"
   ]
  },
  {
   "cell_type": "code",
   "execution_count": 22,
   "metadata": {},
   "outputs": [
    {
     "data": {
      "text/plain": [
       "['0', '1', '2', '3', '4', '5', '6', '7', '8', '9']"
      ]
     },
     "execution_count": 22,
     "metadata": {},
     "output_type": "execute_result"
    }
   ],
   "source": [
    "check = [str(i) for i in range(0,10)]\n",
    "check"
   ]
  },
  {
   "cell_type": "code",
   "execution_count": 34,
   "metadata": {},
   "outputs": [
    {
     "data": {
      "text/plain": [
       "['60 грн|6|\"<a href=\"\"/cosmetics/dlya-volos/sredstva-dlya-zashchity/77903484-uvlyazhnyayushiy-povsednevnyy-krem-dlya-kontrolya-lokonov\"\" class=\"\"b-tile-item-name-product js-b-tile-item\"\" data-event-action=\"\"Open from seller shop\"\" data-event-label=\"\"\"\" data-is-made-in-ukraine=\"\"0\"\" data-user-has-recent-activity=\"\"1\"\" data-sale-status=\"\"nonsale\"\" data-item-count=\"\"13\"\" data-id=\"\"77903484\"\" data-clerk-source=\"\"\"\" title=\"\"Увляжняющий повседневный крем для контроля локонов кучерявых волос\\n',\n",
       " 'kerastase curl manifesto creme de jour fondamentale\"\" winautomationvisibilitylandmark=\"\"true\"\">\\n',\n",
       " 'Увляжняющий повседневный крем для контроля локонов кучерявых волос\\n',\n",
       " 'kerastase curl manifesto creme de jour fondamentale\"|Увляжняющий повседневный крем для контроля локонов кучерявых волос\\n',\n",
       " 'kerastase curl manifesto creme de jour fondamentale|||Kerastase|https://shafa.ua/cosmetics/dlya-volos/sredstva-dlya-zashchity/77903484-uvlyazhnyayushiy-povsednevnyy-krem-dlya-kontrolya-lokonov\\n']"
      ]
     },
     "execution_count": 34,
     "metadata": {},
     "output_type": "execute_result"
    }
   ],
   "source": [
    "data2\n"
   ]
  },
  {
   "cell_type": "code",
   "execution_count": 50,
   "metadata": {},
   "outputs": [],
   "source": [
    "new_data = []\n",
    "\n",
    "for i,line in enumerate(data):\n",
    "    if data[i][0] not in check:\n",
    "        new_data.append(line)\n",
    "        if data[i-1][0] in check:\n",
    "            new_data.append(data[i-1])"
   ]
  },
  {
   "cell_type": "code",
   "execution_count": 51,
   "metadata": {},
   "outputs": [
    {
     "data": {
      "text/plain": [
       "['\\ufeffCurrent Price|Likes|Item|Title|Old Price|Discount|Brand|Link\\n',\n",
       " '175 грн|16|Makeup eraser - многоразовая салфетка для снятия макияжа|Makeup eraser - многоразовая салфетка для снятия макияжа||||https://shafa.ua/cosmetics/dekorativnaya/dlya-snyatiya-makiyazha/58843284-makeup-eraser-mnogorazovaya-salfetka-dlya-snyatiya-makiyazha\\n',\n",
       " 'kerastase curl manifesto creme de jour fondamentale\"\" winautomationvisibilitylandmark=\"\"true\"\">\\n',\n",
       " '60 грн|6|\"<a href=\"\"/cosmetics/dlya-volos/sredstva-dlya-zashchity/77903484-uvlyazhnyayushiy-povsednevnyy-krem-dlya-kontrolya-lokonov\"\" class=\"\"b-tile-item-name-product js-b-tile-item\"\" data-event-action=\"\"Open from seller shop\"\" data-event-label=\"\"\"\" data-is-made-in-ukraine=\"\"0\"\" data-user-has-recent-activity=\"\"1\"\" data-sale-status=\"\"nonsale\"\" data-item-count=\"\"13\"\" data-id=\"\"77903484\"\" data-clerk-source=\"\"\"\" title=\"\"Увляжняющий повседневный крем для контроля локонов кучерявых волос\\n',\n",
       " 'Увляжняющий повседневный крем для контроля локонов кучерявых волос\\n',\n",
       " 'kerastase curl manifesto creme de jour fondamentale\"|Увляжняющий повседневный крем для контроля локонов кучерявых волос\\n',\n",
       " 'kerastase curl manifesto creme de jour fondamentale|||Kerastase|https://shafa.ua/cosmetics/dlya-volos/sredstva-dlya-zashchity/77903484-uvlyazhnyayushiy-povsednevnyy-krem-dlya-kontrolya-lokonov\\n',\n",
       " 'Бесплатно|9|Солнцезащионый крем la roche-posay spf50+ 3 мл|Солнцезащионый крем la roche-posay spf50+ 3 мл|||La Roche-Posay|https://shafa.ua/cosmetics/dlya-lica/krem/75882795-solncezashionyy-krem-la-roche-posay-50\\n',\n",
       " '200 грн|5|Супер-лёгкий увлажняющий крем tarte sea drink of h2o hydrating boost moisturizer|Супер-лёгкий увлажняющий крем tarte sea drink of h2o hydrating boost moisturizer|||Tarte|https://shafa.ua/cosmetics/dlya-lica/krem/69815384-super-lyogkiy-uvlazhnyayushiy-krem-tarte-sea-drink-of-h2o-hydrating\\n']"
      ]
     },
     "execution_count": 51,
     "metadata": {},
     "output_type": "execute_result"
    }
   ],
   "source": [
    "new_data"
   ]
  },
  {
   "cell_type": "code",
   "execution_count": 38,
   "metadata": {},
   "outputs": [],
   "source": [
    "test = ['sdfsd', '32rwefs', '32regsd']"
   ]
  },
  {
   "cell_type": "code",
   "execution_count": 47,
   "metadata": {},
   "outputs": [
    {
     "name": "stdout",
     "output_type": "stream",
     "text": [
      "0\n",
      "1\n",
      "2\n"
     ]
    }
   ],
   "source": [
    "new_data2 = []\n",
    "for i, line in enumerate(test):\n",
    "    if test[i][0] not in check:\n",
    "        new_data2.append(line)\n",
    "\n",
    "    print(i)"
   ]
  },
  {
   "cell_type": "code",
   "execution_count": 48,
   "metadata": {},
   "outputs": [
    {
     "data": {
      "text/plain": [
       "['sdfsd']"
      ]
     },
     "execution_count": 48,
     "metadata": {},
     "output_type": "execute_result"
    }
   ],
   "source": [
    "new_data2"
   ]
  },
  {
   "cell_type": "code",
   "execution_count": null,
   "metadata": {},
   "outputs": [],
   "source": []
  }
 ],
 "metadata": {
  "kernelspec": {
   "display_name": "Python 3.9.13 64-bit (windows store)",
   "language": "python",
   "name": "python3"
  },
  "language_info": {
   "codemirror_mode": {
    "name": "ipython",
    "version": 3
   },
   "file_extension": ".py",
   "mimetype": "text/x-python",
   "name": "python",
   "nbconvert_exporter": "python",
   "pygments_lexer": "ipython3",
   "version": "3.9.13"
  },
  "orig_nbformat": 4,
  "vscode": {
   "interpreter": {
    "hash": "11966d5368f3a57d74a2724a8d2cf4e12b36098d99575ba9c73d47ae9f188419"
   }
  }
 },
 "nbformat": 4,
 "nbformat_minor": 2
}
